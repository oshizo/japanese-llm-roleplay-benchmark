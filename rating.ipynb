{
 "cells": [
  {
   "cell_type": "code",
   "execution_count": 1,
   "metadata": {},
   "outputs": [],
   "source": [
    "import json\n",
    "import pandas as pd\n",
    "from glicko2 import glicko2"
   ]
  },
  {
   "cell_type": "code",
   "execution_count": 2,
   "metadata": {},
   "outputs": [],
   "source": [
    "with open(\"review_gpt-4.jsonl\", \"r\", encoding=\"utf-8\") as f:\n",
    "    matches = [json.loads(line) for line in f.readlines()]"
   ]
  },
  {
   "cell_type": "code",
   "execution_count": 3,
   "metadata": {},
   "outputs": [],
   "source": [
    "model_id_list = list(\n",
    "    set(\n",
    "        [match[\"model_id_A\"] for match in matches]\n",
    "        + [match[\"model_id_B\"] for match in matches]\n",
    "    )\n",
    ")\n",
    "player_dict = {model_id: glicko2.Player() for model_id in model_id_list}"
   ]
  },
  {
   "cell_type": "code",
   "execution_count": 4,
   "metadata": {},
   "outputs": [],
   "source": [
    "for match in matches:\n",
    "    p1 = player_dict[match[\"model_id_A\"]]\n",
    "    p2 = player_dict[match[\"model_id_B\"]]\n",
    "\n",
    "    if match[\"model_id_A\"] == match[\"winner\"]:\n",
    "        p1.update_player([p2.rating], [p2.rd], [1])\n",
    "        p2.update_player([p1.rating], [p1.rd], [0])\n",
    "    else:\n",
    "        p1.update_player([p2.rating], [p2.rd], [0])\n",
    "        p2.update_player([p1.rating], [p1.rd], [1])"
   ]
  },
  {
   "cell_type": "code",
   "execution_count": 5,
   "metadata": {},
   "outputs": [],
   "source": [
    "results = []\n",
    "for model_id, player in player_dict.items():\n",
    "    results.append([model_id, player.rating, player.rd])\n",
    "df = pd.DataFrame(results, columns=[\"model_id\", \"rating\", \"rd\"]).sort_values(\n",
    "    by=\"rating\", ascending=False\n",
    ")"
   ]
  },
  {
   "cell_type": "code",
   "execution_count": 6,
   "metadata": {},
   "outputs": [],
   "source": [
    "df[\"rating ± rd\"] = df.apply(\n",
    "    lambda row: f'{row[\"rating\"]:.0f} ± {row[\"rd\"]:.0f}', axis=1\n",
    ")"
   ]
  },
  {
   "cell_type": "code",
   "execution_count": 7,
   "metadata": {},
   "outputs": [
    {
     "name": "stdout",
     "output_type": "stream",
     "text": [
      "| model_id                                                | rating ± rd   |\n",
      "|:--------------------------------------------------------|:--------------|\n",
      "| GPT-4/ChatGPT-August-3                                  | 1660 ± 92     |\n",
      "| supertrin-beta                                          | 1448 ± 81     |\n",
      "| GPT-3.5/ChatGPT-August-3                                | 1378 ± 78     |\n",
      "| elyza/ELYZA-japanese-Llama-2-7b-fast-instruct           | 1210 ± 79     |\n",
      "| line-corporation/japanese-large-lm-3.6b-instruction-sft | 1150 ± 72     |\n",
      "| AIBunCho/japanese-novel-gpt-j-6b                        | 1015 ± 85     |\n",
      "| rinna/bilingual-gpt-neox-4b-instruction-ppo             | 942 ± 84      |\n"
     ]
    }
   ],
   "source": [
    "print(df[[\"model_id\", \"rating ± rd\"]].to_markdown(index=False))\n"
   ]
  }
 ],
 "metadata": {
  "kernelspec": {
   "display_name": "venv",
   "language": "python",
   "name": "python3"
  },
  "language_info": {
   "codemirror_mode": {
    "name": "ipython",
    "version": 3
   },
   "file_extension": ".py",
   "mimetype": "text/x-python",
   "name": "python",
   "nbconvert_exporter": "python",
   "pygments_lexer": "ipython3",
   "version": "3.9.11"
  },
  "orig_nbformat": 4
 },
 "nbformat": 4,
 "nbformat_minor": 2
}
