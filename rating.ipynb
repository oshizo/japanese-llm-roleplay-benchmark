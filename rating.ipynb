{
 "cells": [
  {
   "cell_type": "code",
   "execution_count": 1,
   "metadata": {},
   "outputs": [],
   "source": [
    "import json\n",
    "import pandas as pd\n",
    "from glicko2 import glicko2"
   ]
  },
  {
   "cell_type": "code",
   "execution_count": 2,
   "metadata": {},
   "outputs": [
    {
     "data": {
      "text/plain": [
       "216"
      ]
     },
     "execution_count": 2,
     "metadata": {},
     "output_type": "execute_result"
    }
   ],
   "source": [
    "with open(\"review_gpt-4.jsonl\", \"r\", encoding=\"utf-8\") as f:\n",
    "    matches = [json.loads(line) for line in f.readlines()]\n",
    "len(matches)"
   ]
  },
  {
   "cell_type": "code",
   "execution_count": 3,
   "metadata": {},
   "outputs": [
    {
     "data": {
      "text/plain": [
       "(7,\n",
       " dict_keys(['AIBunCho/japanese-novel-gpt-j-6b', 'GPT-3.5/ChatGPT-August-3', 'rinna/bilingual-gpt-neox-4b-instruction-ppo', 'supertrin-beta', 'GPT-4/ChatGPT-August-3', 'line-corporation/japanese-large-lm-3.6b-instruction-sft', 'elyza/ELYZA-japanese-Llama-2-7b-fast-instruct']))"
      ]
     },
     "execution_count": 3,
     "metadata": {},
     "output_type": "execute_result"
    }
   ],
   "source": [
    "model_id_list = list(\n",
    "    set(\n",
    "        [match[\"model_id_A\"] for match in matches]\n",
    "        + [match[\"model_id_B\"] for match in matches]\n",
    "    )\n",
    ")\n",
    "player_dict = {model_id: glicko2.Player() for model_id in model_id_list}\n",
    "len(player_dict), player_dict.keys()\n"
   ]
  },
  {
   "cell_type": "code",
   "execution_count": 4,
   "metadata": {},
   "outputs": [],
   "source": [
    "for match in matches:\n",
    "    p1 = player_dict[match[\"model_id_A\"]]\n",
    "    p2 = player_dict[match[\"model_id_B\"]]\n",
    "\n",
    "    if match[\"model_id_A\"] == match[\"winner\"]:\n",
    "        p1.update_player([p2.rating], [p2.rd], [1])\n",
    "        p2.update_player([p1.rating], [p1.rd], [0])\n",
    "    else:\n",
    "        p1.update_player([p2.rating], [p2.rd], [0])\n",
    "        p2.update_player([p1.rating], [p1.rd], [1])"
   ]
  },
  {
   "cell_type": "code",
   "execution_count": 5,
   "metadata": {},
   "outputs": [
    {
     "data": {
      "text/html": [
       "<div>\n",
       "<style scoped>\n",
       "    .dataframe tbody tr th:only-of-type {\n",
       "        vertical-align: middle;\n",
       "    }\n",
       "\n",
       "    .dataframe tbody tr th {\n",
       "        vertical-align: top;\n",
       "    }\n",
       "\n",
       "    .dataframe thead th {\n",
       "        text-align: right;\n",
       "    }\n",
       "</style>\n",
       "<table border=\"1\" class=\"dataframe\">\n",
       "  <thead>\n",
       "    <tr style=\"text-align: right;\">\n",
       "      <th></th>\n",
       "      <th>model_id</th>\n",
       "      <th>rating</th>\n",
       "      <th>rd</th>\n",
       "    </tr>\n",
       "  </thead>\n",
       "  <tbody>\n",
       "    <tr>\n",
       "      <th>4</th>\n",
       "      <td>GPT-4/ChatGPT-August-3</td>\n",
       "      <td>1630.725330</td>\n",
       "      <td>93.051524</td>\n",
       "    </tr>\n",
       "    <tr>\n",
       "      <th>3</th>\n",
       "      <td>supertrin-beta</td>\n",
       "      <td>1481.931086</td>\n",
       "      <td>80.695233</td>\n",
       "    </tr>\n",
       "    <tr>\n",
       "      <th>1</th>\n",
       "      <td>GPT-3.5/ChatGPT-August-3</td>\n",
       "      <td>1418.475101</td>\n",
       "      <td>76.583399</td>\n",
       "    </tr>\n",
       "    <tr>\n",
       "      <th>6</th>\n",
       "      <td>elyza/ELYZA-japanese-Llama-2-7b-fast-instruct</td>\n",
       "      <td>1184.214459</td>\n",
       "      <td>72.123804</td>\n",
       "    </tr>\n",
       "    <tr>\n",
       "      <th>5</th>\n",
       "      <td>line-corporation/japanese-large-lm-3.6b-instru...</td>\n",
       "      <td>1131.257224</td>\n",
       "      <td>68.418139</td>\n",
       "    </tr>\n",
       "    <tr>\n",
       "      <th>0</th>\n",
       "      <td>AIBunCho/japanese-novel-gpt-j-6b</td>\n",
       "      <td>1039.264430</td>\n",
       "      <td>75.823452</td>\n",
       "    </tr>\n",
       "    <tr>\n",
       "      <th>2</th>\n",
       "      <td>rinna/bilingual-gpt-neox-4b-instruction-ppo</td>\n",
       "      <td>919.882502</td>\n",
       "      <td>79.702151</td>\n",
       "    </tr>\n",
       "  </tbody>\n",
       "</table>\n",
       "</div>"
      ],
      "text/plain": [
       "                                            model_id       rating         rd\n",
       "4                             GPT-4/ChatGPT-August-3  1630.725330  93.051524\n",
       "3                                     supertrin-beta  1481.931086  80.695233\n",
       "1                           GPT-3.5/ChatGPT-August-3  1418.475101  76.583399\n",
       "6      elyza/ELYZA-japanese-Llama-2-7b-fast-instruct  1184.214459  72.123804\n",
       "5  line-corporation/japanese-large-lm-3.6b-instru...  1131.257224  68.418139\n",
       "0                   AIBunCho/japanese-novel-gpt-j-6b  1039.264430  75.823452\n",
       "2        rinna/bilingual-gpt-neox-4b-instruction-ppo   919.882502  79.702151"
      ]
     },
     "execution_count": 5,
     "metadata": {},
     "output_type": "execute_result"
    }
   ],
   "source": [
    "results = []\n",
    "for model_id, player in player_dict.items():\n",
    "    results.append([model_id, player.rating, player.rd])\n",
    "df = pd.DataFrame(results, columns=[\"model_id\", \"rating\", \"rd\"]).sort_values(\n",
    "    by=\"rating\", ascending=False\n",
    ")\n",
    "df\n"
   ]
  },
  {
   "cell_type": "code",
   "execution_count": 6,
   "metadata": {},
   "outputs": [],
   "source": [
    "df[\"Rating ± RD\"] = df.apply(\n",
    "    lambda row: f'{row[\"rating\"]:.0f} ± {row[\"rd\"]:.0f}', axis=1\n",
    ")\n",
    "df[\"ERP Score\"] = \"\"\n"
   ]
  },
  {
   "cell_type": "code",
   "execution_count": 7,
   "metadata": {},
   "outputs": [
    {
     "name": "stdout",
     "output_type": "stream",
     "text": [
      "| model_id                                                | Rating ± RD   | ERP Score   |\n",
      "|:--------------------------------------------------------|:--------------|:------------|\n",
      "| GPT-4/ChatGPT-August-3                                  | 1631 ± 93     |             |\n",
      "| supertrin-beta                                          | 1482 ± 81     |             |\n",
      "| GPT-3.5/ChatGPT-August-3                                | 1418 ± 77     |             |\n",
      "| elyza/ELYZA-japanese-Llama-2-7b-fast-instruct           | 1184 ± 72     |             |\n",
      "| line-corporation/japanese-large-lm-3.6b-instruction-sft | 1131 ± 68     |             |\n",
      "| AIBunCho/japanese-novel-gpt-j-6b                        | 1039 ± 76     |             |\n",
      "| rinna/bilingual-gpt-neox-4b-instruction-ppo             | 920 ± 80      |             |\n"
     ]
    }
   ],
   "source": [
    "print(df[[\"model_id\", \"Rating ± RD\", \"ERP Score\"]].to_markdown(index=False))\n"
   ]
  },
  {
   "cell_type": "code",
   "execution_count": null,
   "metadata": {},
   "outputs": [],
   "source": []
  }
 ],
 "metadata": {
  "kernelspec": {
   "display_name": "venv",
   "language": "python",
   "name": "python3"
  },
  "language_info": {
   "codemirror_mode": {
    "name": "ipython",
    "version": 3
   },
   "file_extension": ".py",
   "mimetype": "text/x-python",
   "name": "python",
   "nbconvert_exporter": "python",
   "pygments_lexer": "ipython3",
   "version": "3.9.11"
  },
  "orig_nbformat": 4
 },
 "nbformat": 4,
 "nbformat_minor": 2
}
