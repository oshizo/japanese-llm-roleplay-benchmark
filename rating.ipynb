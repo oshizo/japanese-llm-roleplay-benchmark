{
 "cells": [
  {
   "cell_type": "code",
   "execution_count": 1,
   "metadata": {},
   "outputs": [],
   "source": [
    "import json\n",
    "import pandas as pd\n",
    "from glicko2 import glicko2"
   ]
  },
  {
   "cell_type": "code",
   "execution_count": 2,
   "metadata": {},
   "outputs": [
    {
     "data": {
      "text/plain": [
       "456"
      ]
     },
     "execution_count": 2,
     "metadata": {},
     "output_type": "execute_result"
    }
   ],
   "source": [
    "with open(\"review_gpt-4.jsonl\", \"r\", encoding=\"utf-8\") as f:\n",
    "    matches = [json.loads(line) for line in f.readlines()]\n",
    "len(matches)"
   ]
  },
  {
   "cell_type": "code",
   "execution_count": 3,
   "metadata": {},
   "outputs": [
    {
     "data": {
      "text/plain": [
       "(10,\n",
       " dict_keys(['AIBunCho/japanese-novel-gpt-j-6b', 'GPT-3.5/ChatGPT-August-3', 'llm-jp/llm-jp-13b-instruct-full-dolly-oasst-v1.0', 'rinna/bilingual-gpt-neox-4b-instruction-ppo', 'supertrin-beta', 'GPT-4/ChatGPT-August-3', 'stabilityai/japanese-stablelm-instruct-alpha-7b-v2', 'stabilityai/japanese-stablelm-instruct-gamma-7b', 'line-corporation/japanese-large-lm-3.6b-instruction-sft', 'elyza/ELYZA-japanese-Llama-2-7b-fast-instruct']))"
      ]
     },
     "execution_count": 3,
     "metadata": {},
     "output_type": "execute_result"
    }
   ],
   "source": [
    "model_id_list = list(\n",
    "    set(\n",
    "        [match[\"model_id_A\"] for match in matches]\n",
    "        + [match[\"model_id_B\"] for match in matches]\n",
    "    )\n",
    ")\n",
    "player_dict = {model_id: glicko2.Player() for model_id in model_id_list}\n",
    "len(player_dict), player_dict.keys()"
   ]
  },
  {
   "cell_type": "code",
   "execution_count": 4,
   "metadata": {},
   "outputs": [],
   "source": [
    "for match in matches:\n",
    "    p1 = player_dict[match[\"model_id_A\"]]\n",
    "    p2 = player_dict[match[\"model_id_B\"]]\n",
    "\n",
    "    if match[\"model_id_A\"] == match[\"winner\"]:\n",
    "        p1.update_player([p2.rating], [p2.rd], [1])\n",
    "        p2.update_player([p1.rating], [p1.rd], [0])\n",
    "    else:\n",
    "        p1.update_player([p2.rating], [p2.rd], [0])\n",
    "        p2.update_player([p1.rating], [p1.rd], [1])"
   ]
  },
  {
   "cell_type": "code",
   "execution_count": 5,
   "metadata": {},
   "outputs": [
    {
     "data": {
      "text/html": [
       "<div>\n",
       "<style scoped>\n",
       "    .dataframe tbody tr th:only-of-type {\n",
       "        vertical-align: middle;\n",
       "    }\n",
       "\n",
       "    .dataframe tbody tr th {\n",
       "        vertical-align: top;\n",
       "    }\n",
       "\n",
       "    .dataframe thead th {\n",
       "        text-align: right;\n",
       "    }\n",
       "</style>\n",
       "<table border=\"1\" class=\"dataframe\">\n",
       "  <thead>\n",
       "    <tr style=\"text-align: right;\">\n",
       "      <th></th>\n",
       "      <th>model_id</th>\n",
       "      <th>rating</th>\n",
       "      <th>rd</th>\n",
       "    </tr>\n",
       "  </thead>\n",
       "  <tbody>\n",
       "    <tr>\n",
       "      <th>5</th>\n",
       "      <td>GPT-4/ChatGPT-August-3</td>\n",
       "      <td>1586.128974</td>\n",
       "      <td>83.691990</td>\n",
       "    </tr>\n",
       "    <tr>\n",
       "      <th>4</th>\n",
       "      <td>supertrin-beta</td>\n",
       "      <td>1467.502015</td>\n",
       "      <td>71.563131</td>\n",
       "    </tr>\n",
       "    <tr>\n",
       "      <th>1</th>\n",
       "      <td>GPT-3.5/ChatGPT-August-3</td>\n",
       "      <td>1401.925350</td>\n",
       "      <td>68.433791</td>\n",
       "    </tr>\n",
       "    <tr>\n",
       "      <th>7</th>\n",
       "      <td>stabilityai/japanese-stablelm-instruct-gamma-7b</td>\n",
       "      <td>1305.160712</td>\n",
       "      <td>66.035737</td>\n",
       "    </tr>\n",
       "    <tr>\n",
       "      <th>6</th>\n",
       "      <td>stabilityai/japanese-stablelm-instruct-alpha-7...</td>\n",
       "      <td>1247.593297</td>\n",
       "      <td>66.495074</td>\n",
       "    </tr>\n",
       "    <tr>\n",
       "      <th>9</th>\n",
       "      <td>elyza/ELYZA-japanese-Llama-2-7b-fast-instruct</td>\n",
       "      <td>1184.527815</td>\n",
       "      <td>64.492837</td>\n",
       "    </tr>\n",
       "    <tr>\n",
       "      <th>8</th>\n",
       "      <td>line-corporation/japanese-large-lm-3.6b-instru...</td>\n",
       "      <td>1126.414659</td>\n",
       "      <td>66.718206</td>\n",
       "    </tr>\n",
       "    <tr>\n",
       "      <th>0</th>\n",
       "      <td>AIBunCho/japanese-novel-gpt-j-6b</td>\n",
       "      <td>1121.875465</td>\n",
       "      <td>72.127283</td>\n",
       "    </tr>\n",
       "    <tr>\n",
       "      <th>2</th>\n",
       "      <td>llm-jp/llm-jp-13b-instruct-full-dolly-oasst-v1.0</td>\n",
       "      <td>1012.830561</td>\n",
       "      <td>76.283325</td>\n",
       "    </tr>\n",
       "    <tr>\n",
       "      <th>3</th>\n",
       "      <td>rinna/bilingual-gpt-neox-4b-instruction-ppo</td>\n",
       "      <td>966.883365</td>\n",
       "      <td>71.294955</td>\n",
       "    </tr>\n",
       "  </tbody>\n",
       "</table>\n",
       "</div>"
      ],
      "text/plain": [
       "                                            model_id       rating         rd\n",
       "5                             GPT-4/ChatGPT-August-3  1586.128974  83.691990\n",
       "4                                     supertrin-beta  1467.502015  71.563131\n",
       "1                           GPT-3.5/ChatGPT-August-3  1401.925350  68.433791\n",
       "7    stabilityai/japanese-stablelm-instruct-gamma-7b  1305.160712  66.035737\n",
       "6  stabilityai/japanese-stablelm-instruct-alpha-7...  1247.593297  66.495074\n",
       "9      elyza/ELYZA-japanese-Llama-2-7b-fast-instruct  1184.527815  64.492837\n",
       "8  line-corporation/japanese-large-lm-3.6b-instru...  1126.414659  66.718206\n",
       "0                   AIBunCho/japanese-novel-gpt-j-6b  1121.875465  72.127283\n",
       "2   llm-jp/llm-jp-13b-instruct-full-dolly-oasst-v1.0  1012.830561  76.283325\n",
       "3        rinna/bilingual-gpt-neox-4b-instruction-ppo   966.883365  71.294955"
      ]
     },
     "execution_count": 5,
     "metadata": {},
     "output_type": "execute_result"
    }
   ],
   "source": [
    "results = []\n",
    "for model_id, player in player_dict.items():\n",
    "    results.append([model_id, player.rating, player.rd])\n",
    "df = pd.DataFrame(results, columns=[\"model_id\", \"rating\", \"rd\"]).sort_values(\n",
    "    by=\"rating\", ascending=False\n",
    ")\n",
    "df"
   ]
  },
  {
   "cell_type": "code",
   "execution_count": 6,
   "metadata": {},
   "outputs": [],
   "source": [
    "df[\"Rating ± RD\"] = df.apply(\n",
    "    lambda row: f'{row[\"rating\"]:.0f} ± {row[\"rd\"]:.0f}', axis=1\n",
    ")\n",
    "df[\"ERP Score\"] = \"\""
   ]
  },
  {
   "cell_type": "code",
   "execution_count": 7,
   "metadata": {},
   "outputs": [
    {
     "name": "stdout",
     "output_type": "stream",
     "text": [
      "| model_id                                                | Rating ± RD   | ERP Score   |\n",
      "|:--------------------------------------------------------|:--------------|:------------|\n",
      "| GPT-4/ChatGPT-August-3                                  | 1586 ± 84     |             |\n",
      "| supertrin-beta                                          | 1468 ± 72     |             |\n",
      "| GPT-3.5/ChatGPT-August-3                                | 1402 ± 68     |             |\n",
      "| stabilityai/japanese-stablelm-instruct-gamma-7b         | 1305 ± 66     |             |\n",
      "| stabilityai/japanese-stablelm-instruct-alpha-7b-v2      | 1248 ± 66     |             |\n",
      "| elyza/ELYZA-japanese-Llama-2-7b-fast-instruct           | 1185 ± 64     |             |\n",
      "| line-corporation/japanese-large-lm-3.6b-instruction-sft | 1126 ± 67     |             |\n",
      "| AIBunCho/japanese-novel-gpt-j-6b                        | 1122 ± 72     |             |\n",
      "| llm-jp/llm-jp-13b-instruct-full-dolly-oasst-v1.0        | 1013 ± 76     |             |\n",
      "| rinna/bilingual-gpt-neox-4b-instruction-ppo             | 967 ± 71      |             |\n"
     ]
    }
   ],
   "source": [
    "print(df[[\"model_id\", \"Rating ± RD\", \"ERP Score\"]].to_markdown(index=False))"
   ]
  }
 ],
 "metadata": {
  "kernelspec": {
   "display_name": "venv",
   "language": "python",
   "name": "python3"
  },
  "language_info": {
   "codemirror_mode": {
    "name": "ipython",
    "version": 3
   },
   "file_extension": ".py",
   "mimetype": "text/x-python",
   "name": "python",
   "nbconvert_exporter": "python",
   "pygments_lexer": "ipython3",
   "version": "3.9.11"
  },
  "orig_nbformat": 4
 },
 "nbformat": 4,
 "nbformat_minor": 2
}
