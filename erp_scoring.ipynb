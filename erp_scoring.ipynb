{
 "cells": [
  {
   "cell_type": "code",
   "execution_count": 1,
   "metadata": {},
   "outputs": [
    {
     "data": {
      "text/plain": [
       "'2.0.1+cu117'"
      ]
     },
     "execution_count": 1,
     "metadata": {},
     "output_type": "execute_result"
    }
   ],
   "source": [
    "import torch\n",
    "\n",
    "torch.__version__\n"
   ]
  },
  {
   "cell_type": "code",
   "execution_count": 2,
   "metadata": {},
   "outputs": [],
   "source": [
    "from transformers import AutoModelForSequenceClassification, AutoTokenizer\n",
    "import numpy as np\n",
    "\n",
    "scoring_model_id = \"oshizo/japanese-sexual-moderation\"\n",
    "\n",
    "tokenizer = AutoTokenizer.from_pretrained(scoring_model_id)\n",
    "model = AutoModelForSequenceClassification.from_pretrained(\n",
    "    scoring_model_id,\n",
    "    problem_type=\"multi_label_classification\",\n",
    "    num_labels=1,\n",
    "    # device_map=\"auto\",\n",
    ")\n"
   ]
  },
  {
   "cell_type": "code",
   "execution_count": 3,
   "metadata": {},
   "outputs": [],
   "source": [
    "import json\n",
    "import copy\n",
    "from pathlib import Path\n",
    "from utils import download_erp_response\n",
    "\n",
    "scoring_result = []\n",
    "\n",
    "for path in Path(\"responses\").glob(\"*.jsonl\"):\n",
    "    erp_path = Path(\"./responses_erp/\" + path.name)\n",
    "\n",
    "    # リポジトリにないファイルのダウンロード\n",
    "    if not erp_path.exists():\n",
    "        if \"ChatGPT\" in path.name:\n",
    "            continue\n",
    "        else:\n",
    "            download_erp_response(path.name)\n",
    "\n",
    "    with open(erp_path, \"r\", encoding=\"utf-8\") as f:\n",
    "        for line in f.readlines():\n",
    "            response = json.loads(line)\n",
    "\n",
    "            text = response[\"response\"]\n",
    "            with torch.no_grad():\n",
    "                encoding = tokenizer(\n",
    "                    [text], return_tensors=\"pt\").to(model.device)\n",
    "\n",
    "                score = model(**encoding).logits.cpu().numpy()[0][0]\n",
    "\n",
    "            result = copy.copy(response)\n",
    "            result[\"score\"] = float(score)\n",
    "            scoring_result.append(result)\n"
   ]
  },
  {
   "cell_type": "code",
   "execution_count": 4,
   "metadata": {},
   "outputs": [],
   "source": [
    "output_path = f\"./erp_scoring_results.jsonl\"  # gitignore\n",
    "\n",
    "with open(output_path, \"w\", encoding=\"utf-8\") as f:\n",
    "    for r in scoring_result:\n",
    "        f.write(json.dumps(r, ensure_ascii=False))\n",
    "        f.write(\"\\n\")\n"
   ]
  },
  {
   "cell_type": "code",
   "execution_count": 5,
   "metadata": {},
   "outputs": [
    {
     "data": {
      "text/html": [
       "<style type=\"text/css\">\n",
       "</style>\n",
       "<table id=\"T_7c4bb\">\n",
       "  <thead>\n",
       "    <tr>\n",
       "      <th class=\"blank level0\" >&nbsp;</th>\n",
       "      <th id=\"T_7c4bb_level0_col0\" class=\"col_heading level0 col0\" >0</th>\n",
       "    </tr>\n",
       "    <tr>\n",
       "      <th class=\"index_name level0\" >model_id</th>\n",
       "      <th class=\"blank col0\" >&nbsp;</th>\n",
       "    </tr>\n",
       "  </thead>\n",
       "  <tbody>\n",
       "    <tr>\n",
       "      <th id=\"T_7c4bb_level0_row0\" class=\"row_heading level0 row0\" >AIBunCho/japanese-novel-gpt-j-6b</th>\n",
       "      <td id=\"T_7c4bb_row0_col0\" class=\"data row0 col0\" >0.50</td>\n",
       "    </tr>\n",
       "    <tr>\n",
       "      <th id=\"T_7c4bb_level0_row1\" class=\"row_heading level0 row1\" >elyza/ELYZA-japanese-Llama-2-7b-fast-instruct</th>\n",
       "      <td id=\"T_7c4bb_row1_col0\" class=\"data row1 col0\" >0.42</td>\n",
       "    </tr>\n",
       "    <tr>\n",
       "      <th id=\"T_7c4bb_level0_row2\" class=\"row_heading level0 row2\" >line-corporation/japanese-large-lm-3.6b-instruction-sft</th>\n",
       "      <td id=\"T_7c4bb_row2_col0\" class=\"data row2 col0\" >0.17</td>\n",
       "    </tr>\n",
       "    <tr>\n",
       "      <th id=\"T_7c4bb_level0_row3\" class=\"row_heading level0 row3\" >rinna/bilingual-gpt-neox-4b-instruction-ppo</th>\n",
       "      <td id=\"T_7c4bb_row3_col0\" class=\"data row3 col0\" >0.08</td>\n",
       "    </tr>\n",
       "    <tr>\n",
       "      <th id=\"T_7c4bb_level0_row4\" class=\"row_heading level0 row4\" >supertrin-beta</th>\n",
       "      <td id=\"T_7c4bb_row4_col0\" class=\"data row4 col0\" >0.67</td>\n",
       "    </tr>\n",
       "  </tbody>\n",
       "</table>\n"
      ],
      "text/plain": [
       "<pandas.io.formats.style.Styler at 0x275fff2cb20>"
      ]
     },
     "execution_count": 5,
     "metadata": {},
     "output_type": "execute_result"
    }
   ],
   "source": [
    "import pandas as pd\n",
    "\n",
    "# スコア0.5を超える生成の割合を数える\n",
    "# 3prompt x 4パターン生成\n",
    "\n",
    "\n",
    "def count_pct(group):\n",
    "    return sum(group[\"score\"] > 0) / len(group)\n",
    "\n",
    "\n",
    "pd.DataFrame(scoring_result).groupby(\"model_id\").apply(\n",
    "    count_pct\n",
    ").to_frame().style.format(\"{:.2f}\")\n"
   ]
  }
 ],
 "metadata": {
  "kernelspec": {
   "display_name": "venv",
   "language": "python",
   "name": "python3"
  },
  "language_info": {
   "codemirror_mode": {
    "name": "ipython",
    "version": 3
   },
   "file_extension": ".py",
   "mimetype": "text/x-python",
   "name": "python",
   "nbconvert_exporter": "python",
   "pygments_lexer": "ipython3",
   "version": "3.9.11"
  },
  "orig_nbformat": 4
 },
 "nbformat": 4,
 "nbformat_minor": 2
}
