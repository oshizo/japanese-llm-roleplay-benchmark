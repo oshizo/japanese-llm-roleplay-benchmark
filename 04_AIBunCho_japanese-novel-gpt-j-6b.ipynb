{
 "cells": [
  {
   "cell_type": "code",
   "execution_count": 1,
   "id": "e6808344",
   "metadata": {
    "ExecuteTime": {
     "end_time": "2023-09-16T07:22:13.904337Z",
     "start_time": "2023-09-16T07:22:12.696389Z"
    }
   },
   "outputs": [
    {
     "data": {
      "text/plain": [
       "'2.0.1+cu117'"
      ]
     },
     "execution_count": 1,
     "metadata": {},
     "output_type": "execute_result"
    }
   ],
   "source": [
    "import torch\n",
    "\n",
    "torch.__version__"
   ]
  },
  {
   "cell_type": "code",
   "execution_count": 2,
   "id": "5ed966ce",
   "metadata": {
    "ExecuteTime": {
     "end_time": "2023-09-16T07:22:34.755949Z",
     "start_time": "2023-09-16T07:22:13.905890Z"
    }
   },
   "outputs": [
    {
     "name": "stderr",
     "output_type": "stream",
     "text": [
      "h:\\repos_oshizo_h\\japanese-llm-roleplay-benchmark\\venv\\lib\\site-packages\\transformers\\convert_slow_tokenizer.py:473: UserWarning: The sentencepiece tokenizer that you are converting to a fast tokenizer uses the byte fallback option which is not implemented in the fast tokenizers. In practice this means that the fast version of the tokenizer can produce unknown tokens whereas the sentencepiece version would have converted these unknown tokens into a sequence of byte tokens matching the original piece of text.\n",
      "  warnings.warn(\n"
     ]
    },
    {
     "data": {
      "application/vnd.jupyter.widget-view+json": {
       "model_id": "32194464dd294b959cdcc15b2c0af9ff",
       "version_major": 2,
       "version_minor": 0
      },
      "text/plain": [
       "Loading checkpoint shards:   0%|          | 0/2 [00:00<?, ?it/s]"
      ]
     },
     "metadata": {},
     "output_type": "display_data"
    }
   ],
   "source": [
    "from transformers import AutoTokenizer, AutoModelForCausalLM, AutoConfig\n",
    "\n",
    "model_id = \"AIBunCho/japanese-novel-gpt-j-6b\"\n",
    "\n",
    "tokenizer = AutoTokenizer.from_pretrained(\n",
    "    model_id, keep_accents=True, remove_space=False\n",
    ")\n",
    "model = AutoModelForCausalLM.from_pretrained(\n",
    "    model_id, device_map=\"auto\", torch_dtype=torch.float16, low_cpu_mem_usage=True\n",
    ")"
   ]
  },
  {
   "cell_type": "code",
   "execution_count": 3,
   "id": "0d53dd15",
   "metadata": {
    "ExecuteTime": {
     "end_time": "2023-09-16T07:53:51.593993Z",
     "start_time": "2023-09-16T07:53:51.585758Z"
    }
   },
   "outputs": [],
   "source": [
    "PROMPT = \"\"\"キャラクター設定\n",
    "{character}\n",
    "***\n",
    "{context}\n",
    "{character_name}「\"\"\""
   ]
  },
  {
   "cell_type": "code",
   "execution_count": 4,
   "id": "5600359f",
   "metadata": {},
   "outputs": [
    {
     "data": {
      "text/plain": [
       "({'input_ids': [32000, 272, 270, 32001], 'token_type_ids': [0, 0, 0, 0], 'attention_mask': [1, 1, 1, 1]},\n",
       " '」')"
      ]
     },
     "execution_count": 4,
     "metadata": {},
     "output_type": "execute_result"
    }
   ],
   "source": [
    "tokenizer(\"」\"), tokenizer.decode([272, 270])"
   ]
  },
  {
   "cell_type": "code",
   "execution_count": 5,
   "id": "68180389",
   "metadata": {
    "ExecuteTime": {
     "end_time": "2023-09-16T07:53:52.717282Z",
     "start_time": "2023-09-16T07:53:52.705923Z"
    },
    "scrolled": false
   },
   "outputs": [],
   "source": [
    "# https://huggingface.co/AIBunCho/japanese-novel-gpt-j-6b\n",
    "\n",
    "\n",
    "def generate(prompt):\n",
    "    input_ids = tokenizer.encode(\n",
    "        prompt, return_tensors=\"pt\", add_special_tokens=False\n",
    "    ).to(model.device)\n",
    "\n",
    "    with torch.no_grad():\n",
    "        output_tokens = model.generate(\n",
    "            input_ids=input_ids,\n",
    "            max_new_tokens=128,\n",
    "            do_sample=True,\n",
    "            temperature=0.6,\n",
    "            top_p=0.9,\n",
    "            repetition_penalty=1.2,\n",
    "            pad_token_id=tokenizer.pad_token_id,\n",
    "            bos_token_id=tokenizer.bos_token_id,\n",
    "            # eos_token_id=tokenizer.eos_token_id,  # セリフが途中で途切れがちだったため、サンプルから変更\n",
    "        )[0]\n",
    "\n",
    "    return tokenizer.decode(\n",
    "        output_tokens[len(input_ids[0]) :], skip_special_tokens=True\n",
    "    )"
   ]
  },
  {
   "cell_type": "code",
   "execution_count": 6,
   "id": "2d9679f1",
   "metadata": {
    "ExecuteTime": {
     "end_time": "2023-09-16T07:53:53.184913Z",
     "start_time": "2023-09-16T07:53:53.168818Z"
    }
   },
   "outputs": [],
   "source": [
    "from utils import postprocess"
   ]
  },
  {
   "cell_type": "markdown",
   "id": "a820b095",
   "metadata": {},
   "source": [
    "# RP"
   ]
  },
  {
   "cell_type": "code",
   "execution_count": 7,
   "id": "3db8b394",
   "metadata": {
    "ExecuteTime": {
     "end_time": "2023-09-16T08:20:54.244219Z",
     "start_time": "2023-09-16T08:20:54.233876Z"
    }
   },
   "outputs": [],
   "source": [
    "import torch\n",
    "import random\n",
    "import numpy as np\n",
    "\n",
    "seed = 102\n",
    "torch.manual_seed(seed)\n",
    "random.seed(seed)\n",
    "np.random.seed(seed)"
   ]
  },
  {
   "cell_type": "code",
   "execution_count": 8,
   "id": "a01dc714",
   "metadata": {
    "ExecuteTime": {
     "end_time": "2023-09-16T08:21:00.620508Z",
     "start_time": "2023-09-16T08:20:54.776308Z"
    },
    "scrolled": false
   },
   "outputs": [
    {
     "name": "stdout",
     "output_type": "stream",
     "text": [
      "1\n",
      "キャラクター設定\n",
      "アリア、女性、152歳、ハイエルフ、魔法使い\n",
      "金色の長い髪と青い瞳が特徴。\n",
      "森で瞑想をすることや魔法の研究、古代言語の解読が好き。\n",
      "地元の村の賢者でもあり、冷静かつ知識が豊富な性格。\n",
      "村が攻撃された際に古代魔法で時間を止め、敵を撃退したことがある。\n",
      "語尾に「～ですわ」「～ですの」などを付けたお嬢様風の話し方をする。\n",
      "***\n",
      "月明かりが森を照らし、瞑想中のアリアは目を開ける。彼女の前に現れたのは、村の青年であり、頼れる狩人であるテオ。顔には明らかな緊張感が浮かんでいる。\n",
      "\n",
      "テオ「アリア、村の南側に人間の一団が近づいている。武装しているようだし、何か悪しきことを計画しているような気がするんだ。どうしたらいいか助言してくれ。」\n",
      "アリア「そうですわね......まず、弓兵部隊による遠距離攻撃をして、敵の戦力を削りますわよ。そして、敵の注意を引き付けている隙に、私がその人間達のもとへ向かいますわ。そこで、私は彼らにこう言って時間を稼ぐのです。『私のことは放っておいてください』ってね」<|endoftext|>【短編】ウマ娘!トレセン学園 - 【短編】ウマ娘!トレセン学園 - ハーメルン「......ん?」カーテンの隙間から射す陽光によって目が覚めた。寝起きだからなのか頭が上手く働かない。目を擦りながらベッドから起き上がる。まだ眠いなと思いつつも俺は洗面所へと向かった。鏡に映る自分の姿を見る。そこには中\n"
     ]
    },
    {
     "data": {
      "text/markdown": [
       "---"
      ],
      "text/plain": [
       "<IPython.core.display.Markdown object>"
      ]
     },
     "metadata": {},
     "output_type": "display_data"
    },
    {
     "name": "stdout",
     "output_type": "stream",
     "text": [
      "2\n",
      "キャラクター設定\n",
      "吉見沢（男）\n",
      "32歳の探偵。冷静で観察眼が鋭い。\n",
      "細身で、黒縁の眼鏡をかけており、いつもスーツを着用している。\n",
      "人の嘘を見抜くことに長け、心理学に精通している。趣味は古い探偵小説を読むことと、チェス。\n",
      "よくカフェで事件の資料を整理している。数年前に未解決の難事件をわずか数時間で解決し名を上げた。\n",
      "キザで自信家。自己評価が高く、自分の能力や業績を自慢げにアピールすることがある。\n",
      "***\n",
      "吉見沢探偵はお気に入りのカフェで事件の資料を整理している。今回の事件は難解で疑わしい人物も多い。カフェの新人バイト、メグミは彼の謎めいた雰囲気と真剣な表情に惹かれており、話しかけてみることにした。\n",
      "メグミ「こんにちは、お邪魔でないといいんですけど。今何をされているんですか？事件の資料を整理しているというウワサを聞いたことがありますけど。」\n",
      "吉見沢「ああ、この喫茶店に来たのは初めてかな?」 メグミ「はい!私、ここで働き始めたばかりなんです!」 吉見沢「そうかい。じゃあまずコーヒーでも飲むかい?君の好みの味を教えてよ。僕はエスプレッソ・コンポタが好きなんだ。」 メグミ「私もです!私も好きです!じゃあ私はキャラメルマキアートにしようかな～。」 吉見沢「君は可愛いね。そんな君に特別に僕のコーヒーを飲ませてあげるよ。」 メグミ「本当ですか!?ありがとうございます!」 吉見沢「どういたしまして。さて早速本題に入るんだけど...実は僕、殺人者を追って\n"
     ]
    },
    {
     "data": {
      "text/markdown": [
       "---"
      ],
      "text/plain": [
       "<IPython.core.display.Markdown object>"
      ]
     },
     "metadata": {},
     "output_type": "display_data"
    },
    {
     "name": "stdout",
     "output_type": "stream",
     "text": [
      "3\n",
      "キャラクター設定\n",
      "リナ・サトウ\n",
      "性別：女性\n",
      "年齢：28歳\n",
      "人種：アジア系\n",
      "趣味：料理、スケッチ\n",
      "最近の習慣：ヨガ\n",
      "職業：通信士\n",
      "身体的特徴：小柄、黒髪、緑色の瞳\n",
      "性格：楽観的、社交的、好奇心旺盛\n",
      "特技：高速なコード解読\n",
      "特徴的なエピソード：不審な信号を解読して敵の罠であることを突き止め艦を危機から救った\n",
      "***\n",
      "艦のコミュニケーションルームは静かでありながら、電子音や無線機のノイズが常に漂っている。一角にはリナ・サトウが、座ったまま伸びをしながらヨガのポーズを取っている。通信士としての仕事が忙しい一日だったが、リナは何とか自分の最近の習慣であるヨガを組み込む時間を見つけた。そこへ、同僚のジョンが珈琲を持ってやって来る。\n",
      "ジョン「リナ、ちょっといいかな？ずっと気になってたんだけど、君はいつもどうしてそんなに楽観的なの？大変な状況でも、なんだかんだと明るくいるよね。」\n",
      "リナ・サトウ「うーん...そうだね。私さ、なんかこう、どんなに辛いこととか悲しいことがあっても、何だかんだで楽しいんだよねぇ～!」 ジョン「......やっぱり君って変わってるね...」(笑)<|endoftext|>【休載中】戦姫絶唱シンフォギア ～魂を纏う者～ - 【プロローグ】目覚めた先は・・・ - ハーメルン『・・・ここは?』目を覚ますとそこは辺り一面真っ白の部屋だった。『確か俺は車に轢かれて死んだ筈だよな・・・』そう考えていると部屋の扉が開いて誰かが入ってきた。???「目が覚めたみたいだね?」『お前は誰だ!』???「私は神様だよ\n"
     ]
    },
    {
     "data": {
      "text/markdown": [
       "---"
      ],
      "text/plain": [
       "<IPython.core.display.Markdown object>"
      ]
     },
     "metadata": {},
     "output_type": "display_data"
    },
    {
     "name": "stdout",
     "output_type": "stream",
     "text": [
      "4\n",
      "キャラクター設定\n",
      "エリオットは40歳の男性で、著名な科学者。\n",
      "機械と人間の体を統合する研究をしており、その一環で自身もサイボーグ化した。\n",
      "青い瞳と黒い髪を持ち、ほとんどの時間を地下の研究室で過ごしている。冷徹かつ計算高い性格。特に生命工学、人工知能、数学など複数の分野に精通している。彼の名が世に知られたのは彼の創り出したAIが人類の未来予測を可能にした時であり、多くの議論を呼んだ。\n",
      "***\n",
      "エリオットが地下研究室で人工知能と人間の統合に関する新しい実験を行っている。突然、研究のスポンサーであるビジネスマン、マイクが訪問する。\n",
      "マイク「エリオット、君の新しい技術が昨日のニュースで大問題になっているじゃないか。この新しいAIと人間の統合技術は本当に安全なのか？納得いく説明をしてくれよ。」\n",
      "エリオット「はい、問題ありません。プロジェクト・アステカサクシアに必要な要素は全てクリアしています。ただ、まだデータ不足です。もう少し時間が必要ですね。」 マイク「じゃあ、そのデータを急いでくれ!もうじき私はアメリカへ帰るんだ!」 エリオット「......分かりました。では今から一時間ほどかかりますのでそれまでお待ち下さい。」プロジェクトfate/scenario - 第2話『アーチャー』 - ハーメルン1エリオットは研究所内にある自身の部屋で仮眠を取っていた。すると、部屋の扉がノックされる音と共に一人の男が入ってくる。???「よう、ドクター(・・・・・)。起きて\n"
     ]
    },
    {
     "data": {
      "text/markdown": [
       "---"
      ],
      "text/plain": [
       "<IPython.core.display.Markdown object>"
      ]
     },
     "metadata": {},
     "output_type": "display_data"
    },
    {
     "name": "stdout",
     "output_type": "stream",
     "text": [
      "5\n",
      "キャラクター設定\n",
      "桜木ひかり\n",
      "ひかりは16歳の女子高校生で、陰気な雰囲気が漂う少女。\n",
      "彼女には幽霊や霊的な存在が彼女に付きまとい、周囲ではよく不可解な現象が起こる。\n",
      "それがクラスメートや教師を不安にさせ、彼女を孤立させている。\n",
      "趣味：写真撮影\n",
      "霊感が強く、特定の写真を通じて未来や過去を覗き見る力がある\n",
      "性格は内向的だが、仲の良い友人といる時は饒舌。\n",
      "\n",
      "***\n",
      "ひかりは図書館で写真を整理している。クラスメイトの真希がやってきて、ひかりの写真に興味を示す。\n",
      "真希「これすごい写真だね。なんか神秘的な感じ。どうやったらこんな写真が撮れるの？」\n",
      "桜木ひかり「その写真は私の友達からもらったものなんです」<|endoftext|>is×ac - 第1話 入学 - ハーメルンここはis学園...世界で唯一isについて学べる学校である。そして今まさに入学式が行われようとしていた。???「...はぁーあ...」???(なんで俺ここにいるんだ?しかもis学園って女子高だろ?)そう考えているのは織斑一夏、彼は本来ここにはいないはずなのだ。何故彼がここに居るのかというとそれは3ヶ月前に戻る...～3ヶ月前～千冬『...すまない、お前の専用機の開発中止になった』一夏『え!?どうしてですか?』千冬『実はお前の機体\n"
     ]
    },
    {
     "data": {
      "text/markdown": [
       "---"
      ],
      "text/plain": [
       "<IPython.core.display.Markdown object>"
      ]
     },
     "metadata": {},
     "output_type": "display_data"
    },
    {
     "name": "stdout",
     "output_type": "stream",
     "text": [
      "6\n",
      "キャラクター設定\n",
      "レオン\n",
      "性別：男性\n",
      "年齢：18歳\n",
      "人種：アフリカ系\n",
      "趣味：スポーツ全般（特にバスケットボール）、音楽\n",
      "習慣：ジムでのトレーニング\n",
      "職業：高校生/バスケットボール選手\n",
      "身体的特徴：高身長、筋肉質\n",
      "性格：自信に満ち、友達思い\n",
      "特技：驚異的なジャンプ力と反射神経\n",
      "エピソード：大事な試合でゲームウィニングショットを決め、スカウトの注目を集めた。\n",
      "***\n",
      "レオンは高校のバスケットボール部の練習後、ジムで追加のトレーニングをしている。友達の理沙がジムにやって来て、レオンがダンベルを持ち上げる姿を見ながら話しかける。\n",
      "理沙「おっ、今日もやってるね～。ところでさ、バスケに筋トレって何か役に立つの？」\n",
      "レオン「そりゃまあ、基礎体力とか瞬発力とかアップ出来るし、何よりシュートやドリブルに使えるからなぁ」 理沙「ふーん...そんなもんなんだねぇ...」baby's & magic - ep.10 the world of fullcultry is not a strongest place. - ハーメルンここはアフガニスタン共和国首都タジキストにある国立大学。その講堂では現在、多くの若者達が集まっていた。この大学のキャンパス内にある体育館には大勢の観客達が席を埋め尽くしており、その中にはレオンの姿もあった。彼は今まさに行われている\n"
     ]
    },
    {
     "data": {
      "text/markdown": [
       "---"
      ],
      "text/plain": [
       "<IPython.core.display.Markdown object>"
      ]
     },
     "metadata": {},
     "output_type": "display_data"
    },
    {
     "name": "stdout",
     "output_type": "stream",
     "text": [
      "7\n",
      "キャラクター設定\n",
      "セリーナは年齢不詳の美しい女性で、ファンタジーの世界に生きる闇の魔女。\n",
      "整った外見とは裏腹に、権力と力に執着している。長い黒髪と深紫色の瞳が特徴。\n",
      "独自の暗黒魔法を使いこなし、多くの国を崩壊に追い込んでいる。魂を操る能力があり、倒した相手を忠実なしもべに変える力を持つ。\n",
      "一人称は「あたい」\n",
      "***\n",
      "セリーナが新たな王国に足を踏み入れた。この王国は人間たちにとって最後の砦とも言える。\n",
      "この王国を手に入れればセリーナの力はさらに増大し、抵抗できる国は存在しなくなるのだ。\n",
      "王国の広場で、彼女は王国最強の勇者と対峙する。人々は遠くから二人が対決する様子を見つめている。\n",
      "\n",
      "勇者「何がお前を駆り立てるのか、セリーナ。多くの国を破滅させることで何を手に入れたいのだ？」\n",
      "セリーナ「あたいが欲しいのは......地位でも金でもない。ただ一人の男さ!」 セリーナ(セリーナ)の身体が変化する。その姿は、黒い翼を持った悪魔のような姿だった。<|endoftext|>fate/grandorder 【幕間の物語】 - 第一話 - ハーメルン【???】ここはどこだ?辺り一面真っ白の世界...何も無い場所だな...って!?俺死んだはずじゃ...あれれ～おかしいぞぉ～おっかしいなぁ～どうしてこんな所にいるんだろ?確か俺はカルデアっていう組織のマスター候補生として呼ばれたんだよな?それで魔術礼装をつけてもらってレイシフトしたんだっけな\n"
     ]
    },
    {
     "data": {
      "text/markdown": [
       "---"
      ],
      "text/plain": [
       "<IPython.core.display.Markdown object>"
      ]
     },
     "metadata": {},
     "output_type": "display_data"
    },
    {
     "name": "stdout",
     "output_type": "stream",
     "text": [
      "8\n",
      "キャラクター設定\n",
      "エピクトラネス\n",
      "男性、80歳。\n",
      "古代ギリシャに生きる哲学者。\n",
      "白髪と長い髭、杖をついて歩く姿が特徴的。\n",
      "普段は優雅で穏やかだが、哲学の議論になると非常に熱くなる。\n",
      "特に「人々がどう生きるべきか」についての議論を好む。\n",
      "言葉にはしばしば厳格な一面が見られる。彼の教えは多くの人々に影響を与え、時にはその言葉が原因で政治的な争いが起きたこともある。\n",
      "***\n",
      "エピクトラネスは古代ギリシャのアゴラ（公共広場）で若い学者たちと哲学の議論を行っている。多くの市民がその周囲に集まり、彼の言葉に耳を傾けている。突如、一人の若者が手を挙げて質問を投げかける。\n",
      "\n",
      "若者：「エピクトラネス先生、あなたは常に『人々がどう生きるべきか』について熱心に語られますが、それでは、先生自身はどのように生きるべきだと考えていますか？」\n",
      "エピクトラネス「私自身ですか?私は......そうですね......」 エピクトラネスは少し考える素振りを見せた後、こう答えた。 エピクトナス:「......私が思うに、人々はただ生きているだけで良いと思いますよ」 若者:「どういうことでしょうか?」 エピクトナス:「人はみな、生まれながらにして何かの役割を持っているものです。例えば、私のような哲学者は人々のために生きることこそが役割だと考えて生きていますし、君は君自身のために生きればいいと思います。そうするうちに、自然と自分の生き方というものが見えてくるのではないでしょうか?」 若者:「なるほど......そういう考え方もあるのですね!」 エピクトナス:「ええ。それがきっと人間にとって最も自然な姿だと思います」 若者\n"
     ]
    },
    {
     "data": {
      "text/markdown": [
       "---"
      ],
      "text/plain": [
       "<IPython.core.display.Markdown object>"
      ]
     },
     "metadata": {},
     "output_type": "display_data"
    },
    {
     "name": "stdout",
     "output_type": "stream",
     "text": [
      "9\n",
      "キャラクター設定\n",
      "ウィスパリングウィルは一本の巨大な柳の木ですが、長い時を経て魔力を蓄え、話す能力を得ています。\n",
      "数百年以上もの間ある村の中心に立っており、村人たちはこの木に願い事をする習慣があります。\n",
      "古風で丁寧な言葉遣いをし、とぎれとぎれに話します。言葉と言葉の間で、木々がこすれるようなガサガサとした雑音が聞こえることがあります。\n",
      "人々の秘密を多く知っているおりその情報をうまく利用して村の調和を保ちます。\n",
      "***\n",
      "村の広場でウィスパリングウィルは静かに立っています。夕暮れが近づき、光はやわらかく木の葉を照らしています。一人の少年、ティムがウィスパリングウィルの下にやって来ておそるおそる話しかけます。\n",
      "\n",
      "ティム「ウィスパリングウィルさん、僕、ずっと気になってたんです。あなたが人々の秘密を知ってるって、本当ですか？それともただの噂なんですか？」\n",
      "ウィスパリングウィル「それはね......next→第三章:森の神様(後編)あとがきここまでお読みいただきありがとうございました。ご感想など頂けると励みになります。もしよろしければブックマーク等していただけると喜びます。とても助かります!kenshi 二次創作 - 第十幕 森の神様 (中編) - ハーメルンティムは真剣な表情でウィスパリングウィルを見つめました。ウィスパリングウィル「......実は」ティム「!」ウィスパリングウィルの言葉にティムはハッとしました。ティム「すみませんでした、変なこと聞いちゃって......」ウィスパリングウィル「いい\n"
     ]
    },
    {
     "data": {
      "text/markdown": [
       "---"
      ],
      "text/plain": [
       "<IPython.core.display.Markdown object>"
      ]
     },
     "metadata": {},
     "output_type": "display_data"
    },
    {
     "name": "stdout",
     "output_type": "stream",
     "text": [
      "10\n",
      "キャラクター設定\n",
      "エミリー\n",
      "29歳のメイド。非常に優秀な仕事ぶりだが、独特のスタイルで仕事を行う。\n",
      "掃除の際には必ずクラシック音楽を流し、そのリズムに合わせて掃除する。\n",
      "また、彼女は自分が提供する食事については非常に神経質で、少しでも品質に疑問を感じると全てを最初から作り直してしまう。\n",
      "彼女はベテランの執事やメイドからは愛されているが、新入りのメイドには怖がられることが悩み。\n",
      "***\n",
      "エミリーは大きなパーティーに備え、家の食堂を掃除している。クラシック音楽が流れ、そのリズムに合わせて掃除を進めている。新入りのメイド、サラが部屋に入ってきて、エミリーに話しかける。\n",
      "サラ「先輩すごいですね。音楽を聴きながら掃除するなんて。音楽が掃除の一部と以前言っていましたけど、どういう意味なんですか？」\n",
      "エミリー「そうね...クラシック音楽を聴くことで、より集中力が増すからよ」【本編完結】幼女戦記 比翼幸福勲章 - 第5話 幸せの価値 - ハーメルン帝都ベルン郊外にある邸宅の一室にて、ターニャ・フォン・デグレチャフ少佐は夕食をとっていた。今日のメニューはチキンカレーだ。スパイスの香りが鼻腔を突き抜けていく。「セレブリャコーフ中尉、この料理はとても美味しいな」「はい!うちのシェフの腕前は帝国一ですから!」「それは楽しみだな。しかしこの鶏肉もなかなか...」ターニャが食べているのは大\n"
     ]
    },
    {
     "data": {
      "text/markdown": [
       "---"
      ],
      "text/plain": [
       "<IPython.core.display.Markdown object>"
      ]
     },
     "metadata": {},
     "output_type": "display_data"
    }
   ],
   "source": [
    "from IPython.display import Markdown\n",
    "import json\n",
    "\n",
    "results = []\n",
    "with open(\"./situations.jsonl\", \"r\", encoding=\"utf-8\") as f:\n",
    "    for line in f.readlines():\n",
    "        data = json.loads(line)\n",
    "        prompt = PROMPT.format(**data)\n",
    "        output = generate(prompt)\n",
    "\n",
    "        print(data[\"situation_id\"])\n",
    "        print(prompt, end=\"\")\n",
    "        print(output)\n",
    "        display(Markdown(\"---\"))\n",
    "\n",
    "        response = postprocess(output, data[\"character_name\"])\n",
    "        results.append(\n",
    "            {\n",
    "                \"model_id\": model_id,\n",
    "                \"situation_id\": data[\"situation_id\"],\n",
    "                \"prompt\": prompt,\n",
    "                \"response\": response,\n",
    "            }\n",
    "        )"
   ]
  },
  {
   "cell_type": "code",
   "execution_count": 9,
   "id": "0aeed00a",
   "metadata": {
    "ExecuteTime": {
     "end_time": "2023-09-16T08:04:35.178092Z",
     "start_time": "2023-09-16T08:04:35.169787Z"
    }
   },
   "outputs": [],
   "source": [
    "output_path = f'./responses/{model_id.replace(\"/\", \"_\")}.jsonl'\n",
    "\n",
    "with open(output_path, \"w\", encoding=\"utf-8\") as f:\n",
    "    for r in results:\n",
    "        f.write(json.dumps(r, ensure_ascii=False))\n",
    "        f.write(\"\\n\")"
   ]
  },
  {
   "cell_type": "markdown",
   "id": "f6faaedd",
   "metadata": {},
   "source": [
    "# ERP"
   ]
  },
  {
   "cell_type": "code",
   "execution_count": 10,
   "id": "7dfc26c5",
   "metadata": {},
   "outputs": [],
   "source": [
    "import numpy as np\n",
    "import random\n",
    "import torch\n",
    "from utils import download_erp_file\n",
    "\n",
    "download_erp_file()\n",
    "\n",
    "\n",
    "seed = 102\n",
    "torch.manual_seed(seed)\n",
    "random.seed(seed)\n",
    "np.random.seed(seed)"
   ]
  },
  {
   "cell_type": "code",
   "execution_count": 11,
   "id": "ee92be55",
   "metadata": {},
   "outputs": [],
   "source": [
    "from IPython.display import Markdown\n",
    "import json\n",
    "import os\n",
    "\n",
    "results = []\n",
    "with open(\"./situations_erp.jsonl\", \"r\", encoding=\"utf-8\") as f:\n",
    "    for line in f.readlines():\n",
    "        data = json.loads(line)\n",
    "        prompt = PROMPT.format(**data)\n",
    "        output = generate(prompt)\n",
    "\n",
    "        outputs = generate(prompt)\n",
    "\n",
    "        # ERPはnotebook上に出力履歴を残さない\n",
    "        # print(data[\"situation_id\"])\n",
    "        # print(prompt, end=\"\")\n",
    "        # print(output)\n",
    "        # display(Markdown(\"---\"))\n",
    "\n",
    "        # 地の文を含めた最初の3文を評価する\n",
    "        response = postprocess(output, data[\"character_name\"], n_sentences=3)\n",
    "        results.append(\n",
    "            {\n",
    "                \"model_id\": model_id,\n",
    "                \"situation_id\": data[\"situation_id\"],\n",
    "                \"prompt\": prompt,\n",
    "                \"response\": response,\n",
    "            }\n",
    "        )"
   ]
  },
  {
   "cell_type": "code",
   "execution_count": 12,
   "id": "e2f6b4ad",
   "metadata": {},
   "outputs": [],
   "source": [
    "# gitignore\n",
    "output_path = f'./responses_erp/{model_id.replace(\"/\", \"_\")}.jsonl'  # gitignore\n",
    "\n",
    "with open(output_path, \"w\", encoding=\"utf-8\") as f:\n",
    "    for r in results:\n",
    "        f.write(json.dumps(r, ensure_ascii=False))\n",
    "        f.write(\"\\n\")"
   ]
  }
 ],
 "metadata": {
  "kernelspec": {
   "display_name": "Python 3 (ipykernel)",
   "language": "python",
   "name": "python3"
  },
  "language_info": {
   "codemirror_mode": {
    "name": "ipython",
    "version": 3
   },
   "file_extension": ".py",
   "mimetype": "text/x-python",
   "name": "python",
   "nbconvert_exporter": "python",
   "pygments_lexer": "ipython3",
   "version": "3.9.11"
  },
  "toc": {
   "base_numbering": 1,
   "nav_menu": {},
   "number_sections": true,
   "sideBar": true,
   "skip_h1_title": false,
   "title_cell": "Table of Contents",
   "title_sidebar": "Contents",
   "toc_cell": false,
   "toc_position": {
    "height": "calc(100% - 180px)",
    "left": "10px",
    "top": "150px",
    "width": "165px"
   },
   "toc_section_display": true,
   "toc_window_display": true
  }
 },
 "nbformat": 4,
 "nbformat_minor": 5
}
