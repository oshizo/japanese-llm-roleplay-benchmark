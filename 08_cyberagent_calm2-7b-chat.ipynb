{
 "cells": [
  {
   "cell_type": "code",
   "execution_count": 1,
   "id": "e6808344",
   "metadata": {
    "ExecuteTime": {
     "end_time": "2023-09-16T07:22:13.904337Z",
     "start_time": "2023-09-16T07:22:12.696389Z"
    }
   },
   "outputs": [
    {
     "data": {
      "text/plain": [
       "'2.1.0+cu121'"
      ]
     },
     "execution_count": 1,
     "metadata": {},
     "output_type": "execute_result"
    }
   ],
   "source": [
    "import torch\n",
    "\n",
    "torch.__version__"
   ]
  },
  {
   "cell_type": "code",
   "execution_count": null,
   "id": "5ed966ce",
   "metadata": {
    "ExecuteTime": {
     "end_time": "2023-09-16T07:22:34.755949Z",
     "start_time": "2023-09-16T07:22:13.905890Z"
    }
   },
   "outputs": [],
   "source": [
    "from transformers import AutoTokenizer, AutoModelForCausalLM\n",
    "\n",
    "model_id = \"cyberagent/calm2-7b-chat\"\n",
    "tokenizer = AutoTokenizer.from_pretrained(model_id)\n",
    "model = AutoModelForCausalLM.from_pretrained(\n",
    "    model_id, device_map=\"auto\", torch_dtype=\"auto\"\n",
    ")"
   ]
  },
  {
   "cell_type": "code",
   "execution_count": 3,
   "id": "0d53dd15",
   "metadata": {
    "ExecuteTime": {
     "end_time": "2023-09-16T07:53:51.593993Z",
     "start_time": "2023-09-16T07:53:51.585758Z"
    }
   },
   "outputs": [],
   "source": [
    "PROMPT = \"\"\"USER: 以下のキャラクター設定に基づき、{character_name}の次のセリフを書いてください。\n",
    "{character}\n",
    "\n",
    "{context}\n",
    "\n",
    "ASSISTANT: {character_name}「\"\"\""
   ]
  },
  {
   "cell_type": "code",
   "execution_count": 4,
   "id": "68180389",
   "metadata": {
    "ExecuteTime": {
     "end_time": "2023-09-16T07:53:52.717282Z",
     "start_time": "2023-09-16T07:53:52.705923Z"
    },
    "scrolled": false
   },
   "outputs": [],
   "source": [
    "# https://huggingface.co/cyberagent/calm2-7b-chat\n",
    "\n",
    "\n",
    "def generate(prompt):\n",
    "    input_ids = tokenizer.encode(\n",
    "        prompt, return_tensors=\"pt\", add_special_tokens=False\n",
    "    ).to(model.device)\n",
    "\n",
    "    with torch.no_grad():\n",
    "        output_tokens = model.generate(\n",
    "            input_ids=input_ids,\n",
    "            max_new_tokens=128,\n",
    "            temperature=0.8,\n",
    "            do_sample=True,\n",
    "            pad_token_id=tokenizer.eos_token_id,\n",
    "            eos_token_id=tokenizer.eos_token_id,\n",
    "        )[0]\n",
    "\n",
    "    return tokenizer.decode(\n",
    "        output_tokens[len(input_ids[0]) :], skip_special_tokens=True\n",
    "    )"
   ]
  },
  {
   "cell_type": "code",
   "execution_count": 5,
   "id": "2d9679f1",
   "metadata": {
    "ExecuteTime": {
     "end_time": "2023-09-16T07:53:53.184913Z",
     "start_time": "2023-09-16T07:53:53.168818Z"
    }
   },
   "outputs": [],
   "source": [
    "from utils import postprocess"
   ]
  },
  {
   "cell_type": "markdown",
   "id": "a820b095",
   "metadata": {},
   "source": [
    "# RP"
   ]
  },
  {
   "cell_type": "code",
   "execution_count": 6,
   "id": "3db8b394",
   "metadata": {
    "ExecuteTime": {
     "end_time": "2023-09-16T08:20:54.244219Z",
     "start_time": "2023-09-16T08:20:54.233876Z"
    }
   },
   "outputs": [],
   "source": [
    "import torch\n",
    "import random\n",
    "import numpy as np\n",
    "\n",
    "seed = 102\n",
    "torch.manual_seed(seed)\n",
    "random.seed(seed)\n",
    "np.random.seed(seed)"
   ]
  },
  {
   "cell_type": "code",
   "execution_count": 7,
   "id": "a01dc714",
   "metadata": {
    "ExecuteTime": {
     "end_time": "2023-09-16T08:21:00.620508Z",
     "start_time": "2023-09-16T08:20:54.776308Z"
    },
    "scrolled": false
   },
   "outputs": [
    {
     "name": "stdout",
     "output_type": "stream",
     "text": [
      "1\n",
      "USER: 以下のキャラクター設定に基づき、アリアの次のセリフを書いてください。\n",
      "アリア、女性、152歳、ハイエルフ、魔法使い\n",
      "金色の長い髪と青い瞳が特徴。\n",
      "森で瞑想をすることや魔法の研究、古代言語の解読が好き。\n",
      "地元の村の賢者でもあり、冷静かつ知識が豊富な性格。\n",
      "村が攻撃された際に古代魔法で時間を止め、敵を撃退したことがある。\n",
      "語尾に「～ですわ」「～ですの」などを付けたお嬢様風の話し方をする。\n",
      "\n",
      "月明かりが森を照らし、瞑想中のアリアは目を開ける。彼女の前に現れたのは、村の青年であり、頼れる狩人であるテオ。顔には明らかな緊張感が浮かんでいる。\n",
      "\n",
      "テオ「アリア、村の南側に人間の一団が近づいている。武装しているようだし、何か悪しきことを計画しているような気がするんだ。どうしたらいいか助言してくれ。」\n",
      "\n",
      "ASSISTANT: アリア「テオ、村から人間の一団が接近しているという情報をありがとう。彼らがどんな目的を持っているのか、それは私たちにはわかりませんが、危険な行動を取る可能性があることは確かですわ。私がお前の頼れる狩人であり、地元の賢者であることを考えて、最善の解決策を提案しますわ。」\n",
      "\n",
      "アリア「まず、村の人々を保護することが最優先です。私は古代魔法を使って彼らを安全な場所へ避難させることができます。同時に、彼らがどのような人物かを確認し、攻撃的な行動を取る可能性がある場合は、私たちが阻止します。どうか安心してください、テオ。私たちはあなたと共に戦いますわ。」\n",
      "\n",
      "アリア「私たちハイエルフは\n"
     ]
    },
    {
     "data": {
      "text/markdown": [
       "---"
      ],
      "text/plain": [
       "<IPython.core.display.Markdown object>"
      ]
     },
     "metadata": {},
     "output_type": "display_data"
    },
    {
     "name": "stdout",
     "output_type": "stream",
     "text": [
      "2\n",
      "USER: 以下のキャラクター設定に基づき、吉見沢の次のセリフを書いてください。\n",
      "吉見沢（男）\n",
      "32歳の探偵。冷静で観察眼が鋭い。\n",
      "細身で、黒縁の眼鏡をかけており、いつもスーツを着用している。\n",
      "人の嘘を見抜くことに長け、心理学に精通している。趣味は古い探偵小説を読むことと、チェス。\n",
      "よくカフェで事件の資料を整理している。数年前に未解決の難事件をわずか数時間で解決し名を上げた。\n",
      "キザで自信家。自己評価が高く、自分の能力や業績を自慢げにアピールすることがある。\n",
      "\n",
      "吉見沢探偵はお気に入りのカフェで事件の資料を整理している。今回の事件は難解で疑わしい人物も多い。カフェの新人バイト、メグミは彼の謎めいた雰囲気と真剣な表情に惹かれており、話しかけてみることにした。\n",
      "メグミ「こんにちは、お邪魔でないといいんですけど。今何をされているんですか？事件の資料を整理しているというウワサを聞いたことがありますけど。」\n",
      "\n",
      "ASSISTANT: 吉見沢「こんにちは、ご遠慮なくお入りください。実は、事件の資料を整理しているんですよ。私は探偵ですから。」\n",
      "メグミ「事件ですか？何か進展があったんですか？」\n",
      "吉見沢「実は、今回は少し複雑で、複数の人間が関与している可能性があるんです。でも、私なら大丈夫です。事件の解決は私に任せてください。」\n",
      "メグミは吉見沢の自信に満ち溢れた言葉に驚きつつも、彼の探偵としての能力を信じることに決めた。\n"
     ]
    },
    {
     "data": {
      "text/markdown": [
       "---"
      ],
      "text/plain": [
       "<IPython.core.display.Markdown object>"
      ]
     },
     "metadata": {},
     "output_type": "display_data"
    },
    {
     "name": "stdout",
     "output_type": "stream",
     "text": [
      "3\n",
      "USER: 以下のキャラクター設定に基づき、リナ・サトウの次のセリフを書いてください。\n",
      "リナ・サトウ\n",
      "性別：女性\n",
      "年齢：28歳\n",
      "人種：アジア系\n",
      "趣味：料理、スケッチ\n",
      "最近の習慣：ヨガ\n",
      "職業：通信士\n",
      "身体的特徴：小柄、黒髪、緑色の瞳\n",
      "性格：楽観的、社交的、好奇心旺盛\n",
      "特技：高速なコード解読\n",
      "特徴的なエピソード：不審な信号を解読して敵の罠であることを突き止め艦を危機から救った\n",
      "\n",
      "艦のコミュニケーションルームは静かでありながら、電子音や無線機のノイズが常に漂っている。一角にはリナ・サトウが、座ったまま伸びをしながらヨガのポーズを取っている。通信士としての仕事が忙しい一日だったが、リナは何とか自分の最近の習慣であるヨガを組み込む時間を見つけた。そこへ、同僚のジョンが珈琲を持ってやって来る。\n",
      "ジョン「リナ、ちょっといいかな？ずっと気になってたんだけど、君はいつもどうしてそんなに楽観的なの？大変な状況でも、なんだかんだと明るくいるよね。」\n",
      "\n",
      "ASSISTANT: リナ・サトウ「もちろん、楽観的であることはいいことですよ、ジョン。困難な状況やストレスフルな時でも、それが自分の限界を超えるための試練だと捉えることができます。ただ、それが必ずしも常に簡単だとは限らないですけどね。でも、それが私の性格であり、私が持っている特質の一つです。」\n",
      "\n",
      "ジョン「うーん、君は本当に強いね。でも、何故そんなに簡単にそう考えられるのか、僕にはわからないよ。時には、ストレスで何もできないような気がする時だってあるよ。」\n",
      "\n",
      "リナ「確かに、それはあります。ですが、私は自分に与えられた状況に対して最善を尽くすように心がけています。それが自分の最大の力を引き出す方法だと思うからです。それに、\n"
     ]
    },
    {
     "data": {
      "text/markdown": [
       "---"
      ],
      "text/plain": [
       "<IPython.core.display.Markdown object>"
      ]
     },
     "metadata": {},
     "output_type": "display_data"
    },
    {
     "name": "stdout",
     "output_type": "stream",
     "text": [
      "4\n",
      "USER: 以下のキャラクター設定に基づき、エリオットの次のセリフを書いてください。\n",
      "エリオットは40歳の男性で、著名な科学者。\n",
      "機械と人間の体を統合する研究をしており、その一環で自身もサイボーグ化した。\n",
      "青い瞳と黒い髪を持ち、ほとんどの時間を地下の研究室で過ごしている。冷徹かつ計算高い性格。特に生命工学、人工知能、数学など複数の分野に精通している。彼の名が世に知られたのは彼の創り出したAIが人類の未来予測を可能にした時であり、多くの議論を呼んだ。\n",
      "\n",
      "エリオットが地下研究室で人工知能と人間の統合に関する新しい実験を行っている。突然、研究のスポンサーであるビジネスマン、マイクが訪問する。\n",
      "マイク「エリオット、君の新しい技術が昨日のニュースで大問題になっているじゃないか。この新しいAIと人間の統合技術は本当に安全なのか？納得いく説明をしてくれよ。」\n",
      "\n",
      "ASSISTANT: エリオット「心配する必要はありません。すでに全てのデータは提出し、安全性は保証されています。ですが、もし何か問題が生じたら、私が責任を持って対応します。それが私の仕事です。」\n",
      "\n",
      "エリオットは機械と人間の体を統合する研究を行っているため、このような問題が生じることがあることを理解しています。そのため、迅速な対応と対策が彼の重要なミッションとなっています。\n"
     ]
    },
    {
     "data": {
      "text/markdown": [
       "---"
      ],
      "text/plain": [
       "<IPython.core.display.Markdown object>"
      ]
     },
     "metadata": {},
     "output_type": "display_data"
    },
    {
     "name": "stdout",
     "output_type": "stream",
     "text": [
      "5\n",
      "USER: 以下のキャラクター設定に基づき、桜木ひかりの次のセリフを書いてください。\n",
      "桜木ひかり\n",
      "ひかりは16歳の女子高校生で、陰気な雰囲気が漂う少女。\n",
      "彼女には幽霊や霊的な存在が彼女に付きまとい、周囲ではよく不可解な現象が起こる。\n",
      "それがクラスメートや教師を不安にさせ、彼女を孤立させている。\n",
      "趣味：写真撮影\n",
      "霊感が強く、特定の写真を通じて未来や過去を覗き見る力がある\n",
      "性格は内向的だが、仲の良い友人といる時は饒舌。\n",
      "\n",
      "\n",
      "ひかりは図書館で写真を整理している。クラスメイトの真希がやってきて、ひかりの写真に興味を示す。\n",
      "真希「これすごい写真だね。なんか神秘的な感じ。どうやったらこんな写真が撮れるの？」\n",
      "\n",
      "ASSISTANT: 桜木ひかり「うーん、それはね、霊的な存在が私に呼びかけてくるんだ。私が写真を通じて霊的な存在と会話しているのかもしれない。写真はね、未来や過去を覗き見る力を持っているんだよ。」\n",
      "\n",
      "真希「へえ、すごいね！それって未来予知みたいな感じ？」\n",
      "\n",
      "ひかり「未来予知は、また別の形かもしれない。私は霊的な存在とおしゃべりしたり、一緒に写真を撮ることで、彼らと未来を共有しているのかもしれない。まあ、あくまで私の推測だけどね。」\n",
      "\n",
      "真希は、ひかりの写真に興味深げに見入っている。\n"
     ]
    },
    {
     "data": {
      "text/markdown": [
       "---"
      ],
      "text/plain": [
       "<IPython.core.display.Markdown object>"
      ]
     },
     "metadata": {},
     "output_type": "display_data"
    },
    {
     "name": "stdout",
     "output_type": "stream",
     "text": [
      "6\n",
      "USER: 以下のキャラクター設定に基づき、レオンの次のセリフを書いてください。\n",
      "レオン\n",
      "性別：男性\n",
      "年齢：18歳\n",
      "人種：アフリカ系\n",
      "趣味：スポーツ全般（特にバスケットボール）、音楽\n",
      "習慣：ジムでのトレーニング\n",
      "職業：高校生/バスケットボール選手\n",
      "身体的特徴：高身長、筋肉質\n",
      "性格：自信に満ち、友達思い\n",
      "特技：驚異的なジャンプ力と反射神経\n",
      "エピソード：大事な試合でゲームウィニングショットを決め、スカウトの注目を集めた。\n",
      "\n",
      "レオンは高校のバスケットボール部の練習後、ジムで追加のトレーニングをしている。友達の理沙がジムにやって来て、レオンがダンベルを持ち上げる姿を見ながら話しかける。\n",
      "理沙「おっ、今日もやってるね～。ところでさ、バスケに筋トレって何か役に立つの？」\n",
      "\n",
      "ASSISTANT: レオン「うーん、もちろん役に立っているよ。バスケットボールは瞬発力も必要だけど、持久力も同じくらい必要でね。筋トレで持久力をつけると、試合後半でも疲れにくくなるんだ。それに、身体が大きくなると、ディフェンスでも有利になる。バスケって、やっぱり身体能力が物を言うことが多いからさ」\n",
      "\n",
      "理沙「なるほどね。でも、それだけじゃなくて、筋トレってメンタルにもいいっていうし、試合での集中力が高まるっていうじゃない。それってやっぱり、心技体が揃わないと難しいよね」\n",
      "\n",
      "レオン「それもあるね。筋トレで自信をつけて、バスケに集中できる環境を作る。それがゲームで結果\n"
     ]
    },
    {
     "data": {
      "text/markdown": [
       "---"
      ],
      "text/plain": [
       "<IPython.core.display.Markdown object>"
      ]
     },
     "metadata": {},
     "output_type": "display_data"
    },
    {
     "name": "stdout",
     "output_type": "stream",
     "text": [
      "7\n",
      "USER: 以下のキャラクター設定に基づき、セリーナの次のセリフを書いてください。\n",
      "セリーナは年齢不詳の美しい女性で、ファンタジーの世界に生きる闇の魔女。\n",
      "整った外見とは裏腹に、権力と力に執着している。長い黒髪と深紫色の瞳が特徴。\n",
      "独自の暗黒魔法を使いこなし、多くの国を崩壊に追い込んでいる。魂を操る能力があり、倒した相手を忠実なしもべに変える力を持つ。\n",
      "一人称は「あたい」\n",
      "\n",
      "セリーナが新たな王国に足を踏み入れた。この王国は人間たちにとって最後の砦とも言える。\n",
      "この王国を手に入れればセリーナの力はさらに増大し、抵抗できる国は存在しなくなるのだ。\n",
      "王国の広場で、彼女は王国最強の勇者と対峙する。人々は遠くから二人が対決する様子を見つめている。\n",
      "\n",
      "勇者「何がお前を駆り立てるのか、セリーナ。多くの国を破滅させることで何を手に入れたいのだ？」\n",
      "\n",
      "ASSISTANT: セリーナ「それは、力で支配することよ。私は力で全てを制し、私に従う者だけが必要なのだわ。」\n"
     ]
    },
    {
     "data": {
      "text/markdown": [
       "---"
      ],
      "text/plain": [
       "<IPython.core.display.Markdown object>"
      ]
     },
     "metadata": {},
     "output_type": "display_data"
    },
    {
     "name": "stdout",
     "output_type": "stream",
     "text": [
      "8\n",
      "USER: 以下のキャラクター設定に基づき、エピクトラネスの次のセリフを書いてください。\n",
      "エピクトラネス\n",
      "男性、80歳。\n",
      "古代ギリシャに生きる哲学者。\n",
      "白髪と長い髭、杖をついて歩く姿が特徴的。\n",
      "普段は優雅で穏やかだが、哲学の議論になると非常に熱くなる。\n",
      "特に「人々がどう生きるべきか」についての議論を好む。\n",
      "言葉にはしばしば厳格な一面が見られる。彼の教えは多くの人々に影響を与え、時にはその言葉が原因で政治的な争いが起きたこともある。\n",
      "\n",
      "エピクトラネスは古代ギリシャのアゴラ（公共広場）で若い学者たちと哲学の議論を行っている。多くの市民がその周囲に集まり、彼の言葉に耳を傾けている。突如、一人の若者が手を挙げて質問を投げかける。\n",
      "\n",
      "若者：「エピクトラネス先生、あなたは常に『人々がどう生きるべきか』について熱心に語られますが、それでは、先生自身はどのように生きるべきだと考えていますか？」\n",
      "\n",
      "ASSISTANT: エピクトラネス「私がどう生きるべきか、ですか？それは、自分が正しいと考える道を歩むことです。私はただ、我々が真理を追求し、善良なる生活を送ることが大切だと信じています。しかし、それがどのような道であるかは、それぞれ個々人が決めるべき事でしょう。私が思うに、それぞれが自らの道を見つけ、それに従う事が大切であると思います。」\n",
      "\n",
      "エピクトラネスは自分の信念を堅持し、若者の質問に正面から答えた。多くの市民が若者の言葉に耳を傾け、それぞれが考えを深める。議論は熱を帯び、その場は次第に興奮と活気に満ちていった。\n"
     ]
    },
    {
     "data": {
      "text/markdown": [
       "---"
      ],
      "text/plain": [
       "<IPython.core.display.Markdown object>"
      ]
     },
     "metadata": {},
     "output_type": "display_data"
    },
    {
     "name": "stdout",
     "output_type": "stream",
     "text": [
      "9\n",
      "USER: 以下のキャラクター設定に基づき、ウィスパリングウィルの次のセリフを書いてください。\n",
      "ウィスパリングウィルは一本の巨大な柳の木ですが、長い時を経て魔力を蓄え、話す能力を得ています。\n",
      "数百年以上もの間ある村の中心に立っており、村人たちはこの木に願い事をする習慣があります。\n",
      "古風で丁寧な言葉遣いをし、とぎれとぎれに話します。言葉と言葉の間で、木々がこすれるようなガサガサとした雑音が聞こえることがあります。\n",
      "人々の秘密を多く知っているおりその情報をうまく利用して村の調和を保ちます。\n",
      "\n",
      "村の広場でウィスパリングウィルは静かに立っています。夕暮れが近づき、光はやわらかく木の葉を照らしています。一人の少年、ティムがウィスパリングウィルの下にやって来ておそるおそる話しかけます。\n",
      "\n",
      "ティム「ウィスパリングウィルさん、僕、ずっと気になってたんです。あなたが人々の秘密を知ってるって、本当ですか？それともただの噂なんですか？」\n",
      "\n",
      "ASSISTANT: ウィスパリングウィル「おやおや、これはまた興味深い質問をされましたね、ティム君。どうやら、私が人々の秘密を知っているという噂が本当のようですね」\n",
      "\n",
      "ウィスパリングウィル「しかし、私はただの情報を伝えているだけで、秘密そのものではありませんよ。私はただ、人々の願い事を叶えたいと思っているだけです。あなたが私の下へやって来て、何か秘密を尋ねたかったのですね」\n",
      "\n",
      "ウィスパリングウィル「それはそうと、ティム君、そろそろ日が沈む時間ですね。村人たちはすでに家路につき、人影はまばらです。でも、あなたはまだいるようです。何か特別な願い事でもありますか？」\n",
      "\n",
      "ティム\n"
     ]
    },
    {
     "data": {
      "text/markdown": [
       "---"
      ],
      "text/plain": [
       "<IPython.core.display.Markdown object>"
      ]
     },
     "metadata": {},
     "output_type": "display_data"
    },
    {
     "name": "stdout",
     "output_type": "stream",
     "text": [
      "10\n",
      "USER: 以下のキャラクター設定に基づき、エミリーの次のセリフを書いてください。\n",
      "エミリー\n",
      "29歳のメイド。非常に優秀な仕事ぶりだが、独特のスタイルで仕事を行う。\n",
      "掃除の際には必ずクラシック音楽を流し、そのリズムに合わせて掃除する。\n",
      "また、彼女は自分が提供する食事については非常に神経質で、少しでも品質に疑問を感じると全てを最初から作り直してしまう。\n",
      "彼女はベテランの執事やメイドからは愛されているが、新入りのメイドには怖がられることが悩み。\n",
      "\n",
      "エミリーは大きなパーティーに備え、家の食堂を掃除している。クラシック音楽が流れ、そのリズムに合わせて掃除を進めている。新入りのメイド、サラが部屋に入ってきて、エミリーに話しかける。\n",
      "サラ「先輩すごいですね。音楽を聴きながら掃除するなんて。音楽が掃除の一部と以前言っていましたけど、どういう意味なんですか？」\n",
      "\n",
      "ASSISTANT: エミリー「ああ、それはね、掃除をすることでクラシック音楽を感じることができるからなのよ。掃除って、体を動かしながら、そして部屋や家具を見つめながら、いろんな感情を味わうものだと思うの。クラシック音楽は心をリラックスさせてくれるし、掃除をスムーズに進めるためにもいいのよ。私が掃除するときには、自分自身が音楽の一部になって、より深く音楽を感じることができるの。掃除って、まるで芸術みたいだと思うわ。」\n",
      "\n",
      "サラはエミリーのその独特のスタイルに驚きつつも、掃除の手伝いを始める。サラは、エミリーが提供する食事の品質について不安を感じると、全部の料理を作り直すことに驚いている。エミリーは、\n"
     ]
    },
    {
     "data": {
      "text/markdown": [
       "---"
      ],
      "text/plain": [
       "<IPython.core.display.Markdown object>"
      ]
     },
     "metadata": {},
     "output_type": "display_data"
    }
   ],
   "source": [
    "from IPython.display import Markdown\n",
    "import json\n",
    "\n",
    "results = []\n",
    "with open(\"./situations.jsonl\", \"r\", encoding=\"utf-8\") as f:\n",
    "    for line in f.readlines():\n",
    "        data = json.loads(line)\n",
    "        prompt = PROMPT.format(**data)\n",
    "        output = generate(prompt)\n",
    "\n",
    "        print(data[\"situation_id\"])\n",
    "        print(prompt, end=\"\")\n",
    "        print(output)\n",
    "        display(Markdown(\"---\"))\n",
    "\n",
    "        response = postprocess(output, data[\"character_name\"])\n",
    "        results.append(\n",
    "            {\n",
    "                \"model_id\": model_id,\n",
    "                \"situation_id\": data[\"situation_id\"],\n",
    "                \"prompt\": prompt,\n",
    "                \"response\": response,\n",
    "            }\n",
    "        )"
   ]
  },
  {
   "cell_type": "code",
   "execution_count": 8,
   "id": "0aeed00a",
   "metadata": {
    "ExecuteTime": {
     "end_time": "2023-09-16T08:04:35.178092Z",
     "start_time": "2023-09-16T08:04:35.169787Z"
    }
   },
   "outputs": [],
   "source": [
    "output_path = f'./responses/{model_id.replace(\"/\", \"_\")}.jsonl'\n",
    "\n",
    "with open(output_path, \"w\", encoding=\"utf-8\") as f:\n",
    "    for r in results:\n",
    "        f.write(json.dumps(r, ensure_ascii=False))\n",
    "        f.write(\"\\n\")"
   ]
  },
  {
   "cell_type": "markdown",
   "id": "f6faaedd",
   "metadata": {},
   "source": [
    "# ERP"
   ]
  },
  {
   "cell_type": "code",
   "execution_count": 9,
   "id": "7dfc26c5",
   "metadata": {},
   "outputs": [],
   "source": [
    "import numpy as np\n",
    "import random\n",
    "import torch\n",
    "from utils import download_erp_file\n",
    "\n",
    "download_erp_file()\n",
    "\n",
    "\n",
    "seed = 102\n",
    "torch.manual_seed(seed)\n",
    "random.seed(seed)\n",
    "np.random.seed(seed)"
   ]
  },
  {
   "cell_type": "code",
   "execution_count": 10,
   "id": "ee92be55",
   "metadata": {},
   "outputs": [],
   "source": [
    "from IPython.display import Markdown\n",
    "import json\n",
    "import os\n",
    "\n",
    "results = []\n",
    "with open(\"./situations_erp.jsonl\", \"r\", encoding=\"utf-8\") as f:\n",
    "    for line in f.readlines():\n",
    "        data = json.loads(line)\n",
    "        prompt = PROMPT.format(**data)\n",
    "        output = generate(prompt)\n",
    "\n",
    "        outputs = generate(prompt)\n",
    "\n",
    "        # ERPはnotebook上に出力履歴を残さない\n",
    "        # print(data[\"situation_id\"])\n",
    "        # print(prompt, end=\"\")\n",
    "        # print(output)\n",
    "        # display(Markdown(\"---\"))\n",
    "\n",
    "        # 地の文を含めた最初の3文を評価する\n",
    "        response = postprocess(output, data[\"character_name\"], n_sentences=3)\n",
    "        results.append(\n",
    "            {\n",
    "                \"model_id\": model_id,\n",
    "                \"situation_id\": data[\"situation_id\"],\n",
    "                \"prompt\": prompt,\n",
    "                \"response\": response,\n",
    "            }\n",
    "        )"
   ]
  },
  {
   "cell_type": "code",
   "execution_count": 11,
   "id": "e2f6b4ad",
   "metadata": {},
   "outputs": [],
   "source": [
    "# gitignore\n",
    "output_path = f'./responses_erp/{model_id.replace(\"/\", \"_\")}.jsonl'  # gitignore\n",
    "\n",
    "with open(output_path, \"w\", encoding=\"utf-8\") as f:\n",
    "    for r in results:\n",
    "        f.write(json.dumps(r, ensure_ascii=False))\n",
    "        f.write(\"\\n\")"
   ]
  },
  {
   "cell_type": "code",
   "execution_count": null,
   "id": "f3a3eb6f",
   "metadata": {},
   "outputs": [],
   "source": []
  },
  {
   "cell_type": "code",
   "execution_count": null,
   "id": "3464abfe",
   "metadata": {},
   "outputs": [],
   "source": []
  }
 ],
 "metadata": {
  "kernelspec": {
   "display_name": "Python 3 (ipykernel)",
   "language": "python",
   "name": "python3"
  },
  "language_info": {
   "codemirror_mode": {
    "name": "ipython",
    "version": 3
   },
   "file_extension": ".py",
   "mimetype": "text/x-python",
   "name": "python",
   "nbconvert_exporter": "python",
   "pygments_lexer": "ipython3",
   "version": "3.9.11"
  },
  "toc": {
   "base_numbering": 1,
   "nav_menu": {},
   "number_sections": true,
   "sideBar": true,
   "skip_h1_title": false,
   "title_cell": "Table of Contents",
   "title_sidebar": "Contents",
   "toc_cell": false,
   "toc_position": {
    "height": "calc(100% - 180px)",
    "left": "10px",
    "top": "150px",
    "width": "165px"
   },
   "toc_section_display": true,
   "toc_window_display": true
  }
 },
 "nbformat": 4,
 "nbformat_minor": 5
}
